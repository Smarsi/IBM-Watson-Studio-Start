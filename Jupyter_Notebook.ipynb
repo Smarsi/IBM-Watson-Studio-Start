{
 "cells": [
  {
   "cell_type": "markdown",
   "metadata": {
    "tags": []
   },
   "source": [
    "<center>\n",
    "    <img src=\"https://s3-api.us-geo.objectstorage.softlayer.net/cf-courses-data/CognitiveClass/Logos/organization_logo/organization_logo.png\" width=\"300\" alt=\"cognitiveclass.ai logo\"  />\n",
    "</center>\n"
   ]
  },
  {
   "cell_type": "markdown",
   "metadata": {},
   "source": [
    "<h1>My Jupyter Notebook on IBM Watson Studio</h1>"
   ]
  },
  {
   "cell_type": "markdown",
   "metadata": {},
   "source": [
    "<p><b>Richard Smarsi</b></p>\n",
    "<p>Software Developer</p>"
   ]
  },
  {
   "cell_type": "markdown",
   "metadata": {},
   "source": [
    "<p>I am interested in data science because of my job. I'm looking for improve this skills to help the enterprise with the data engineering work.</p>"
   ]
  },
  {
   "cell_type": "markdown",
   "metadata": {},
   "source": [
    "<h3>The code prints \"Hello World\"</h3>"
   ]
  },
  {
   "cell_type": "code",
   "execution_count": 2,
   "metadata": {},
   "outputs": [
    {
     "name": "stdout",
     "output_type": "stream",
     "text": [
      "Hello World\n"
     ]
    }
   ],
   "source": [
    "print(\"Hello World\")"
   ]
  },
  {
   "cell_type": "markdown",
   "metadata": {
    "jp-MarkdownHeadingCollapsed": true,
    "tags": []
   },
   "source": [
    "<h4>A Simple Example Link</h4>\n",
    "<br>\n",
    "\n",
    "<a href=\"www.google.com\">www.google.com</a>\n",
    "\n",
    "<h4>A Simple Example Table</h4>\n",
    "<br>\n",
    "\n",
    "<table>\n",
    "    <tr>\n",
    "        <td>Name</td>\n",
    "        <td>Age</td>\n",
    "        <tdOccupation</td>\n",
    "    </tr>\n",
    "    <tr>\n",
    "        <td>Ted</td>\n",
    "        <td>22</td>\n",
    "        <td>Data Analyst</td>\n",
    "    </tr>\n",
    "    <tr>\n",
    "        <td>Carl</td>\n",
    "        <td>26</td>\n",
    "        <td>Designer</td>\n",
    "    </tr>\n",
    "</table>\n",
    "\n",
    "<h4>JSON Format</h4>\n",
    "<br>\n",
    "\n",
    "```json\n",
    "{\n",
    "  \"firstName\": \"John\",\n",
    "  \"lastName\": \"Smith\",\n",
    "  \"age\": 25\n",
    "}\n",
    "```\n"
   ]
  },
  {
   "cell_type": "code",
   "execution_count": null,
   "metadata": {},
   "outputs": [],
   "source": []
  }
 ],
 "metadata": {
  "kernelspec": {
   "display_name": "Python",
   "language": "python",
   "name": "conda-env-python-py"
  },
  "language_info": {
   "codemirror_mode": {
    "name": "ipython",
    "version": 3
   },
   "file_extension": ".py",
   "mimetype": "text/x-python",
   "name": "python",
   "nbconvert_exporter": "python",
   "pygments_lexer": "ipython3",
   "version": "3.7.12"
  }
 },
 "nbformat": 4,
 "nbformat_minor": 4
}
