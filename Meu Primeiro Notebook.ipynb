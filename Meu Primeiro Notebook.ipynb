{
    "cells": [
        {
            "metadata": {},
            "cell_type": "markdown",
            "source": "# O que este notebook faz?\n\nEste notebook analisa dados de ma planilha de testes.\n"
        },
        {
            "metadata": {},
            "cell_type": "code",
            "source": "\nimport os, types\nimport pandas as pd\nfrom botocore.client import Config\nimport ibm_boto3\n\ndef __iter__(self): return 0\n\n# @hidden_cell\n# The following code accesses a file in your IBM Cloud Object Storage. It includes your credentials.\n# You might want to remove those credentials before you share the notebook.\nclient_23f6c4aab22d46cc86fc71c67c63f40e = ibm_boto3.client(service_name='s3',\n    ibm_api_key_id='x13VTSq1nMK9lSOEWBTtLFLubeto79ALjkxdXcuerUiD',\n    ibm_auth_endpoint=\"https://iam.cloud.ibm.com/oidc/token\",\n    config=Config(signature_version='oauth'),\n    endpoint_url='https://s3.private.us.cloud-object-storage.appdomain.cloud')\n\nbody = client_23f6c4aab22d46cc86fc71c67c63f40e.get_object(Bucket='meuprimeiroprojeto-donotdelete-pr-yvp4tjnrheoch1',Key='testePython.xlsx')['Body']\n\ndf_data_0 = pd.read_excel(body.read())\ndf_data_0.head()\n",
            "execution_count": 1,
            "outputs": [
                {
                    "output_type": "execute_result",
                    "execution_count": 1,
                    "data": {
                        "text/plain": "   Teste1 Teste1.1\n0  Teste2   Teste2\n1  Teste3   Teste3\n2  Teste4   Teste4\n3  Teste5   Teste5\n4  Teste6   Teste6",
                        "text/html": "<div>\n<style scoped>\n    .dataframe tbody tr th:only-of-type {\n        vertical-align: middle;\n    }\n\n    .dataframe tbody tr th {\n        vertical-align: top;\n    }\n\n    .dataframe thead th {\n        text-align: right;\n    }\n</style>\n<table border=\"1\" class=\"dataframe\">\n  <thead>\n    <tr style=\"text-align: right;\">\n      <th></th>\n      <th>Teste1</th>\n      <th>Teste1.1</th>\n    </tr>\n  </thead>\n  <tbody>\n    <tr>\n      <th>0</th>\n      <td>Teste2</td>\n      <td>Teste2</td>\n    </tr>\n    <tr>\n      <th>1</th>\n      <td>Teste3</td>\n      <td>Teste3</td>\n    </tr>\n    <tr>\n      <th>2</th>\n      <td>Teste4</td>\n      <td>Teste4</td>\n    </tr>\n    <tr>\n      <th>3</th>\n      <td>Teste5</td>\n      <td>Teste5</td>\n    </tr>\n    <tr>\n      <th>4</th>\n      <td>Teste6</td>\n      <td>Teste6</td>\n    </tr>\n  </tbody>\n</table>\n</div>"
                    },
                    "metadata": {}
                }
            ]
        },
        {
            "metadata": {},
            "cell_type": "code",
            "source": "",
            "execution_count": null,
            "outputs": []
        }
    ],
    "metadata": {
        "kernelspec": {
            "name": "python3",
            "display_name": "Python 3.9",
            "language": "python"
        },
        "language_info": {
            "name": "python",
            "version": "3.9.12",
            "mimetype": "text/x-python",
            "codemirror_mode": {
                "name": "ipython",
                "version": 3
            },
            "pygments_lexer": "ipython3",
            "nbconvert_exporter": "python",
            "file_extension": ".py"
        }
    },
    "nbformat": 4,
    "nbformat_minor": 1
}